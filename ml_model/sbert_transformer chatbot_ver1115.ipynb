{
 "cells": [
  {
   "cell_type": "code",
   "execution_count": 3,
   "id": "be75a550",
   "metadata": {},
   "outputs": [
    {
     "name": "stderr",
     "output_type": "stream",
     "text": [
      "C:\\Users\\thonm\\AppData\\Local\\Packages\\PythonSoftwareFoundation.Python.3.9_qbz5n2kfra8p0\\LocalCache\\local-packages\\Python39\\site-packages\\tqdm\\auto.py:22: TqdmWarning: IProgress not found. Please update jupyter and ipywidgets. See https://ipywidgets.readthedocs.io/en/stable/user_install.html\n",
      "  from .autonotebook import tqdm as notebook_tqdm\n"
     ]
    }
   ],
   "source": [
    "from sentence_transformers import SentenceTransformer\n",
    "import pandas as pd\n",
    "import numpy as np\n",
    "from numpy import dot\n",
    "from numpy.linalg import norm\n",
    "import pickle"
   ]
  },
  {
   "cell_type": "code",
   "execution_count": 4,
   "id": "192d44f9",
   "metadata": {},
   "outputs": [
    {
     "name": "stderr",
     "output_type": "stream",
     "text": [
      "Downloading: 100%|██████████| 574/574 [00:00<00:00, 280kB/s]\n",
      "Downloading: 100%|██████████| 190/190 [00:00<00:00, 95.1kB/s]\n",
      "Downloading: 100%|██████████| 4.06k/4.06k [00:00<00:00, 2.03MB/s]\n",
      "Downloading: 100%|██████████| 731/731 [00:00<00:00, 366kB/s]\n",
      "Downloading: 100%|██████████| 122/122 [00:00<00:00, 61.1kB/s]\n",
      "Downloading: 100%|██████████| 1.11G/1.11G [03:37<00:00, 5.10MB/s]\n",
      "Downloading: 100%|██████████| 53.0/53.0 [00:00<00:00, 26.5kB/s]\n",
      "Downloading: 100%|██████████| 5.07M/5.07M [00:16<00:00, 310kB/s] \n",
      "Downloading: 100%|██████████| 150/150 [00:00<00:00, 75.0kB/s]\n",
      "Downloading: 100%|██████████| 9.10M/9.10M [00:01<00:00, 6.91MB/s]\n",
      "Downloading: 100%|██████████| 527/527 [00:00<00:00, 264kB/s]\n",
      "Downloading: 100%|██████████| 229/229 [00:00<00:00, 115kB/s]\n"
     ]
    }
   ],
   "source": [
    "model = SentenceTransformer('sentence-transformers/xlm-r-100langs-bert-base-nli-stsb-mean-tokens')"
   ]
  },
  {
   "cell_type": "code",
   "execution_count": 5,
   "id": "d148c9e2",
   "metadata": {},
   "outputs": [],
   "source": [
    "with open('sbert_chatbot.pickle', 'rb') as f:\n",
    "    train_data = pickle.load(f)"
   ]
  },
  {
   "cell_type": "code",
   "execution_count": 6,
   "id": "33481e86",
   "metadata": {},
   "outputs": [],
   "source": [
    "def cos_sim(A, B):\n",
    "  return dot(A, B)/(norm(A)*norm(B))\n",
    "\n",
    "def return_answer(question):\n",
    "    embedding = model.encode(question)\n",
    "    train_data['score'] = train_data.apply(lambda x: cos_sim(x['embedding'], embedding), axis=1)\n",
    "    return train_data.loc[train_data['score'].idxmax()]['A']"
   ]
  },
  {
   "cell_type": "code",
   "execution_count": 7,
   "id": "a6dc4a04",
   "metadata": {},
   "outputs": [
    {
     "data": {
      "text/plain": [
       "'짜증날 때는 기분 푸는 음악 어때요?'"
      ]
     },
     "execution_count": 7,
     "metadata": {},
     "output_type": "execute_result"
    }
   ],
   "source": [
    "return_answer('우울한데....')"
   ]
  },
  {
   "cell_type": "code",
   "execution_count": 8,
   "id": "57925c07",
   "metadata": {},
   "outputs": [
    {
     "data": {
      "text/plain": [
       "'낮잠을 잠깐 자도 괜찮아요.'"
      ]
     },
     "execution_count": 8,
     "metadata": {},
     "output_type": "execute_result"
    }
   ],
   "source": [
    "return_answer('좀 졸립다')"
   ]
  },
  {
   "cell_type": "code",
   "execution_count": 9,
   "id": "691a4bf0",
   "metadata": {},
   "outputs": [
    {
     "data": {
      "text/plain": [
       "'맘고생 많았어요.'"
      ]
     },
     "execution_count": 9,
     "metadata": {},
     "output_type": "execute_result"
    }
   ],
   "source": [
    "return_answer('된다 된다 아자 ㅎㅎ')"
   ]
  },
  {
   "cell_type": "code",
   "execution_count": null,
   "id": "13baa528",
   "metadata": {},
   "outputs": [],
   "source": []
  }
 ],
 "metadata": {
  "kernelspec": {
   "display_name": "Python 3.9.13 64-bit (microsoft store)",
   "language": "python",
   "name": "python3"
  },
  "language_info": {
   "codemirror_mode": {
    "name": "ipython",
    "version": 3
   },
   "file_extension": ".py",
   "mimetype": "text/x-python",
   "name": "python",
   "nbconvert_exporter": "python",
   "pygments_lexer": "ipython3",
   "version": "3.9.13"
  },
  "vscode": {
   "interpreter": {
    "hash": "e4bc6afdf7a0c4acb90d1506c1972b5f3867774ef2c50f4762f47b1907aeaee7"
   }
  }
 },
 "nbformat": 4,
 "nbformat_minor": 5
}
