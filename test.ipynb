{
 "cells": [
  {
   "cell_type": "code",
   "execution_count": 1,
   "metadata": {},
   "outputs": [],
   "source": [
    "import pandas as pd"
   ]
  },
  {
   "cell_type": "code",
   "execution_count": 7,
   "metadata": {},
   "outputs": [],
   "source": [
    "columns=['id', 'student_id', 'type', 'name', 'phone_number', 'school_name', 'grade', 'class_no', 'password']\n",
    "user = pd.DataFrame(list(zip([1],['2022178003'], ['student'], ['Kong Vungsovanreach'],'0102536598' ,['CBNU'],['12'],[2],['sadfasdfasdf'])), columns=columns)"
   ]
  },
  {
   "cell_type": "code",
   "execution_count": null,
   "metadata": {},
   "outputs": [],
   "source": [
    "@app.route('/')\n",
    "def homepage():\n",
    "    users = pd.read_sql('SELECT * FROM users', con=_db_connection)\n",
    "    print(users.iloc[0].to_dict)\n",
    "    return render_template('index.html', data=users.iloc[0].to_dict())\n",
    "\n",
    "\n",
    "@app.route('/add')\n",
    "def add_user():\n",
    "    columns = ['student_id', 'type', 'name', 'phone_number',\n",
    "               'school_name', 'grade', 'class_no', 'password']\n",
    "    user = pd.DataFrame(list(zip(['2022178005'], ['student'], ['Vungsovanreach'], [\n",
    "                        '0102536598'], ['CBNU'], ['12'], [2], ['gfsgfrtgg'])), columns=columns)\n",
    "    print(user)\n",
    "    user.to_sql('users', con=_db_connection, if_exists='append', index=False)\n",
    "    return jsonify(\n",
    "        user.to_dict()\n",
    "    )"
   ]
  },
  {
   "cell_type": "code",
   "execution_count": 1,
   "metadata": {},
   "outputs": [
    {
     "data": {
      "text/plain": [
       "'MxpYp7aroA8LGXbEv47k6w'"
      ]
     },
     "execution_count": 1,
     "metadata": {},
     "output_type": "execute_result"
    }
   ],
   "source": [
    "import secrets\n",
    "secrets.token_urlsafe(16)"
   ]
  }
 ],
 "metadata": {
  "kernelspec": {
   "display_name": "Python 3.9.13 64-bit (microsoft store)",
   "language": "python",
   "name": "python3"
  },
  "language_info": {
   "codemirror_mode": {
    "name": "ipython",
    "version": 3
   },
   "file_extension": ".py",
   "mimetype": "text/x-python",
   "name": "python",
   "nbconvert_exporter": "python",
   "pygments_lexer": "ipython3",
   "version": "3.9.13"
  },
  "orig_nbformat": 4,
  "vscode": {
   "interpreter": {
    "hash": "e4bc6afdf7a0c4acb90d1506c1972b5f3867774ef2c50f4762f47b1907aeaee7"
   }
  }
 },
 "nbformat": 4,
 "nbformat_minor": 2
}
